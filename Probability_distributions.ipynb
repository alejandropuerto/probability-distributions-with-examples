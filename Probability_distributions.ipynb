{
 "cells": [
  {
   "cell_type": "markdown",
   "metadata": {},
   "source": [
    "# Probability distributions\n",
    "A probability distribution describe the probabilities of all possible outcomes for a random variable Y. In the discrete case it can be represented as a table or graph and in the continuous case is the area under the curve of a probability. \n",
    "\n"
   ]
  },
  {
   "cell_type": "code",
   "execution_count": 1,
   "metadata": {},
   "outputs": [],
   "source": [
    "# Author: Alejandro Puerto Castro \n",
    "#         with contributions from Mario Campos"
   ]
  },
  {
   "cell_type": "code",
   "execution_count": 2,
   "metadata": {},
   "outputs": [],
   "source": [
    "# Required libraries\n",
    "import random\n",
    "import math\n",
    "import matplotlib.pyplot as plt\n",
    "import numpy as np\n",
    "%matplotlib inline"
   ]
  },
  {
   "cell_type": "markdown",
   "metadata": {},
   "source": [
    "# Discrete distribution class\n",
    "Let's define a simple discrete distribution class to explore how the probabilities are calculated in the case of discrete variables.."
   ]
  },
  {
   "cell_type": "code",
   "execution_count": 3,
   "metadata": {},
   "outputs": [],
   "source": [
    "class DiscreteDistribution:\n",
    "    \n",
    "    def __init__(self, sample_space):\n",
    "        self.sample_space = sample_space\n",
    "        self.distribution = {}\n",
    "        for event in sample_space:\n",
    "            self.distribution[event] = self.calculateProbability(event)\n",
    "        self.experiments = 0\n",
    "        print(self.distribution)\n",
    "    \n",
    "    def estimate(self, observations):\n",
    "        distribution = {}\n",
    "        for event in observations:\n",
    "            if event in distribution:\n",
    "                distribution[event] += 1\n",
    "            else:\n",
    "                distribution[event] = 1\n",
    "                \n",
    "        for event, value in distribution.items():\n",
    "            distribution[event] /= len(observations)\n",
    "        return distribution\n",
    "    \n",
    "    def calculateProbability(self, y):\n",
    "        if y in self.sample_space and len(self.sample_space) > 0:\n",
    "            return 1/len(self.sample_space)\n",
    "        return 0\n",
    "    \n",
    "    def probabilityOfSampleSpace(self):\n",
    "        sum = 0\n",
    "        for event in self.sample_space:\n",
    "            sum += self.calculateProbability(event)\n",
    "        return sum\n",
    "    \n",
    "    def runEvent(self, variance_factor = 0.01):\n",
    "        observation = random.random()\n",
    "        accumulate = 0\n",
    "        for event, probability in self.distribution.items():\n",
    "            accumulate += probability\n",
    "            if accumulate >= observation:\n",
    "                accumulate = 0\n",
    "                return event\n",
    "        return self.runEvent(variance_factor)\n",
    "                \n",
    "            \n",
    "    def simulateExperiment(self, variance_factor  = 0.01):\n",
    "        value = self.runEvent()\n",
    "        self.experiments += 1\n",
    "        if self.experiments == len(self.sample_space):\n",
    "            self.experiments = 0\n",
    "            self.generator = None\n",
    "        return value\n",
    "    \n",
    "    def plot(self, order_labels = None):\n",
    "        labels = []\n",
    "        probabilities = []\n",
    "        for event, probability in self.distribution.items():\n",
    "            labels.append(event)\n",
    "            probabilities.append(probability)\n",
    "        \n",
    "        if order_labels is not None:\n",
    "            labels.sort(key = order_labels)\n",
    "            probabilities = []\n",
    "            for l in labels:\n",
    "                probabilities.append(self.distribution[l])\n",
    "        x = np.arange(len(labels))  # the label locations\n",
    "        width = 0.35  # the width of the bars\n",
    "        fig, ax = plt.subplots()\n",
    "        rects = ax.bar(x, probabilities, width, label = 'Probability')\n",
    "        \n",
    "        # Add some text for labels, title and custom x-axis tick labels, etc.\n",
    "        ax.set_ylabel('Probabilities')\n",
    "        ax.set_title('Probability distribution')\n",
    "        ax.set_xticks(x)\n",
    "        ax.set_xticklabels(labels)\n",
    "        ax.legend()\n",
    "        ax = self.autolabel(rects, ax)\n",
    "        fig.tight_layout()\n",
    "        plt.ylim(0, max(probabilities)*1.2)\n",
    "        plt.show()\n",
    "        \n",
    "    def autolabel(self, rects, ax):\n",
    "        \"\"\"Attach a text label above each bar in *rects*, displaying its height.\"\"\"\n",
    "        for rect in rects:\n",
    "            height = self.truncate(rect.get_height(), 3)\n",
    "            ax.annotate(str(height),\n",
    "                    xy=(rect.get_x() + rect.get_width() / 2, height),\n",
    "                    xytext=(0, 3),  # 3 points vertical offset\n",
    "                    textcoords=\"offset points\",\n",
    "                    ha='center', va='bottom')\n",
    "        return ax\n",
    "\n",
    "    def truncate(self, number, digits):\n",
    "        stepper = 10.0 ** digits\n",
    "        return math.trunc(stepper * number) / stepper\n",
    "    \n",
    "    def expectedValue(self):\n",
    "        expected_value = 0\n",
    "        for y, py in self.distribution.items():\n",
    "            if isinstance(y, int):\n",
    "                expected_value += y*py\n",
    "        return expected_value\n",
    "    \n",
    "    def variance(self):\n",
    "        variance = 0\n",
    "        for y, py in self.distribution.items():\n",
    "            if isinstance(y, int):\n",
    "                variance += ((y-self.expectedValue())**2)*py\n",
    "        return variance\n",
    "        "
   ]
  },
  {
   "cell_type": "markdown",
   "metadata": {},
   "source": [
    "The discrete distribution class defined before receives a sample space and defines a function to compute the probability, we can extend this class to explore different probabilities.\n",
    "\n",
    "There are different discrete distributions. For example, binomial, geometric, hypergeometric, and poisson. In this notebook are coded the discrete distributions mentioned."
   ]
  },
  {
   "cell_type": "code",
   "execution_count": 4,
   "metadata": {},
   "outputs": [],
   "source": [
    "def printDistribution(probability_distribution):\n",
    "    \"\"\"\n",
    "    This function encompasses the plot for the probability distribution passed as argument;\n",
    "    also, prints its expected value and its variance.\n",
    "    \"\"\"\n",
    "    probability_distribution.plot()\n",
    "    print(\"Expected value: \" + str(probability_distribution.expectedValue()))\n",
    "    print(\"Variance: \" + str(probability_distribution.variance()))"
   ]
  },
  {
   "cell_type": "markdown",
   "metadata": {},
   "source": [
    "## Binomial distribution"
   ]
  },
  {
   "cell_type": "code",
   "execution_count": 5,
   "metadata": {},
   "outputs": [],
   "source": [
    "class BinomialDistribution(DiscreteDistribution):\n",
    "    \n",
    "    \"\"\"\n",
    "    Computes a binomial distribution with parameters n (number of trials) and p (probability of success\n",
    "    on a single trial, which remains the same from trial to trial).\n",
    "    \n",
    "    The sample space in this distribution is from 0 to the number of trials (n).\n",
    "    \"\"\"\n",
    "    \n",
    "    def __init__(self, n, p):\n",
    "        self.sample_space = range(n + 1)\n",
    "        self.n = n #number of trials\n",
    "        self.p = p #probability of success\n",
    "        self.q = 1 - p #probability of failure\n",
    "        self.distribution = {}\n",
    "        for event in self.sample_space:\n",
    "            self.distribution[event] = self.calculateProbability(event)\n",
    "        self.experiments = 0\n",
    "        print(self.distribution)\n",
    "    \n",
    "    def calculateProbability(self, y):\n",
    "        \"\"\"\n",
    "        This function calculates the probability of a random variable of interest Y, which is the\n",
    "        number of successes observed during the n trials.\n",
    "        \"\"\"\n",
    "        exp = self.p**y * self.q**(self.n -y)\n",
    "        return self.getCombinations(self.n, y)*exp\n",
    "    \n",
    "    def getCombinations(self, n, r):\n",
    "        \"\"\"\n",
    "        Computes the combination of n and variable r based on the formula for calculating probability.\n",
    "        \"\"\"\n",
    "        return (np.math.factorial(n)/(np.math.factorial(n-r)))/np.math.factorial(r)\n",
    "    \n",
    "    def expectedValue(self):\n",
    "        return self.n*self.p\n",
    "    \n",
    "    def variance(self):\n",
    "        return self.n*self.p*self.q"
   ]
  },
  {
   "cell_type": "markdown",
   "metadata": {},
   "source": [
    "### Binomial example\n",
    "\n",
    "**Example:** Experience has shown that 30\\% of all persons afflicted by a certain illness recover. A drug company has developed a new medication. Ten people with the illness were selected at random and received the medication; nine recovered shortly thereafter. Suppose that the medication was absolutely worthless. What is the probability that at least nine of ten receiving the medication will recover?"
   ]
  },
  {
   "cell_type": "code",
   "execution_count": 6,
   "metadata": {},
   "outputs": [
    {
     "name": "stdout",
     "output_type": "stream",
     "text": [
      "{0: 0.028247524899999984, 1: 0.12106082099999993, 2: 0.23347444049999985, 3: 0.2668279319999999, 4: 0.20012094899999994, 5: 0.10291934519999994, 6: 0.03675690899999998, 7: 0.009001691999999995, 8: 0.0014467004999999993, 9: 0.00013778099999999993, 10: 5.9048999999999975e-06}\n"
     ]
    }
   ],
   "source": [
    "example = BinomialDistribution(10, 0.3)"
   ]
  },
  {
   "cell_type": "code",
   "execution_count": 7,
   "metadata": {},
   "outputs": [
    {
     "name": "stdout",
     "output_type": "stream",
     "text": [
      "Probability of 9 recoveries is: 0.00013778099999999993\n",
      "Probability of 10 recoveries is: 5.9048999999999975e-06\n",
      "Probability of at least 9 out of 10 people receiving medication will recover is: 0.00014368589999999993\n"
     ]
    }
   ],
   "source": [
    "nine_recoveries = example.calculateProbability(9)\n",
    "print(\"Probability of 9 recoveries is: \" + str(nine_recoveries))\n",
    "ten_recoveries = example.calculateProbability(10)\n",
    "print(\"Probability of 10 recoveries is: \" + str(ten_recoveries))\n",
    "print(\"Probability of at least 9 out of 10 people receiving medication will recover is: \" + str(nine_recoveries+ten_recoveries))\n"
   ]
  },
  {
   "cell_type": "code",
   "execution_count": 8,
   "metadata": {},
   "outputs": [
    {
     "data": {
      "image/png": "[encoded data removed]",
      "text/plain": [
       "<Figure size 432x288 with 1 Axes>"
      ]
     },
     "metadata": {
      "needs_background": "light"
     },
     "output_type": "display_data"
    },
    {
     "name": "stdout",
     "output_type": "stream",
     "text": [
      "Expected value: 3.0\n",
      "Variance: 2.0999999999999996\n"
     ]
    }
   ],
   "source": [
    "printDistribution(example)"
   ]
  },
  {
   "cell_type": "code",
   "execution_count": 9,
   "metadata": {},
   "outputs": [
    {
     "name": "stdout",
     "output_type": "stream",
     "text": [
      "Sample space probability: 0.9999999999999992\n"
     ]
    }
   ],
   "source": [
    "print(\"Sample space probability: \" + str(example.probabilityOfSampleSpace()))"
   ]
  },
  {
   "cell_type": "markdown",
   "metadata": {},
   "source": [
    "**Example:** Suppose that a lot of 5000 electrical fuses contains 5% defectives. If a sample of\n",
    "5 fuses is tested, find the probability of observing at least one defective."
   ]
  },
  {
   "cell_type": "code",
   "execution_count": 10,
   "metadata": {},
   "outputs": [
    {
     "name": "stdout",
     "output_type": "stream",
     "text": [
      "{0: 0.7737809374999998, 1: 0.2036265625, 2: 0.021434375, 3: 0.0011281250000000002, 4: 2.9687500000000007e-05, 5: 3.125000000000001e-07}\n"
     ]
    }
   ],
   "source": [
    "example = BinomialDistribution(5, .05)"
   ]
  },
  {
   "cell_type": "code",
   "execution_count": 11,
   "metadata": {},
   "outputs": [
    {
     "name": "stdout",
     "output_type": "stream",
     "text": [
      "The probability that at least one fuse is defective is: 0.22621999999999998\n"
     ]
    }
   ],
   "source": [
    "print(\"The probability that at least one fuse is defective is: \" + str(1-round(example.calculateProbability(0), 5)))"
   ]
  },
  {
   "cell_type": "code",
   "execution_count": 12,
   "metadata": {},
   "outputs": [
    {
     "data": {
      "image/png": "[encoded data removed]",
      "text/plain": [
       "<Figure size 432x288 with 1 Axes>"
      ]
     },
     "metadata": {
      "needs_background": "light"
     },
     "output_type": "display_data"
    },
    {
     "name": "stdout",
     "output_type": "stream",
     "text": [
      "Expected value: 0.25\n",
      "Variance: 0.2375\n"
     ]
    }
   ],
   "source": [
    "printDistribution(example)"
   ]
  },
  {
   "cell_type": "code",
   "execution_count": 13,
   "metadata": {},
   "outputs": [
    {
     "name": "stdout",
     "output_type": "stream",
     "text": [
      "Sample space probability: 0.9999999999999998\n"
     ]
    }
   ],
   "source": [
    "print(\"Sample space probability: \" + str(example.probabilityOfSampleSpace()))"
   ]
  },
  {
   "cell_type": "markdown",
   "metadata": {},
   "source": [
    "### Binomial precision\n",
    "\n",
    "Based on the probabilityOfSampleSpace function, we can know the precision or reliability of the computation of probabilities as they must sum up to 1.\n",
    "\n",
    "In this case, the probability of sample space for this distribution implementation sum up to 0.99. We can take it as reliable.\n",
    "\n",
    "The binomial probability distribution has many applications because the binomial experiment occurs in sampling for defectives in industrial quality control, in the sampling of consumer preference or voting populations, and in many other physical situations for mentioning some examples."
   ]
  },
  {
   "cell_type": "markdown",
   "metadata": {},
   "source": [
    "## Geometric distribution"
   ]
  },
  {
   "cell_type": "code",
   "execution_count": 14,
   "metadata": {},
   "outputs": [],
   "source": [
    "class GeometricDistribution(DiscreteDistribution):\n",
    "    \n",
    "    \"\"\"\n",
    "    Computes a Geometric distribution with p as argument, which is the probability of succes of some event.\n",
    "    \n",
    "    The sample space of the distribution is, in this case, from 1 to the expected value, because this distribution\n",
    "    could go on indefinitely.\n",
    "    \"\"\"\n",
    "    \n",
    "    def __init__(self, p):\n",
    "        self.p = p #probability of success\n",
    "        self.q = 1 - p #probability of failure\n",
    "        self.sample_space = range(1, int(self.expectedValue())+1) #sample space from 1 to expected value (1/p)\n",
    "        self.distribution = {}\n",
    "        for event in self.sample_space:\n",
    "            self.distribution[event] = self.calculateProbability(event)\n",
    "        self.experiments = 0\n",
    "        print(self.distribution)\n",
    "    \n",
    "    def calculateProbability(self, k):\n",
    "        \"\"\"\n",
    "        Computes the probability of the random variable k, which is the number of the trial on which\n",
    "        the first success occurs.\n",
    "        \"\"\"\n",
    "        return (self.q**(k - 1)) * self.p\n",
    " \n",
    "    \n",
    "    def expectedValue(self):\n",
    "        return 1/self.p\n",
    "    \n",
    "    def variance(self):\n",
    "        return self.q / (self.p**2)"
   ]
  },
  {
   "cell_type": "markdown",
   "metadata": {},
   "source": [
    "### Geometric example\n",
    "\n",
    "**Example:** Then the probability of engine malfunction, $p = 0.02$, during any randomly observed one-hour interval of operation might be the same as for any other one-hour interval. The length of time prior to engine malfunction is the number of one-hour intervals, Y , until the first malfunction."
   ]
  },
  {
   "cell_type": "code",
   "execution_count": 15,
   "metadata": {},
   "outputs": [
    {
     "name": "stdout",
     "output_type": "stream",
     "text": [
      "{1: 0.02, 2: 0.0196, 3: 0.019208, 4: 0.018823839999999998, 5: 0.018447363199999997, 6: 0.018078415936, 7: 0.01771684761728, 8: 0.0173625106649344, 9: 0.01701526045163571, 10: 0.016674955242602995, 11: 0.016341456137750933, 12: 0.016014627014995918, 13: 0.015694334474696, 14: 0.015380447785202077, 15: 0.015072838829498034, 16: 0.014771382052908075, 17: 0.014475954411849913, 18: 0.014186435323612913, 19: 0.013902706617140655, 20: 0.013624652484797842, 21: 0.013352159435101886, 22: 0.013085116246399846, 23: 0.012823413921471849, 24: 0.012566945643042414, 25: 0.012315606730181566, 26: 0.012069294595577934, 27: 0.011827908703666375, 28: 0.011591350529593045, 29: 0.011359523519001184, 30: 0.011132333048621162, 31: 0.010909686387648738, 32: 0.010691492659895763, 33: 0.010477662806697848, 34: 0.01026810955056389, 35: 0.010062747359552614, 36: 0.00986149241236156, 37: 0.00966426256411433, 38: 0.009470977312832042, 39: 0.0092815577665754, 40: 0.009095926611243893, 41: 0.008914008079019015, 42: 0.008735727917438634, 43: 0.008561013359089861, 44: 0.008389793091908064, 45: 0.008221997230069902, 46: 0.008057557285468505, 47: 0.007896406139759133, 48: 0.007738478016963951, 49: 0.007583708456624672, 50: 0.007432034287492179}\n"
     ]
    }
   ],
   "source": [
    "example = GeometricDistribution(0.02)"
   ]
  },
  {
   "cell_type": "code",
   "execution_count": 16,
   "metadata": {},
   "outputs": [
    {
     "name": "stdout",
     "output_type": "stream",
     "text": [
      "The probability that an engine malfunction in the first hour is: 0.02\n",
      "The probability that an engine malfunction in the second hours is: 0.0196\n",
      "The probability that an engine will survive two hours is: 0.9604\n"
     ]
    }
   ],
   "source": [
    "one_hour = example.calculateProbability(1)\n",
    "two_hour = example.calculateProbability(2)\n",
    "survive_two_hours = 1 - (one_hour + two_hour)\n",
    "print(\"The probability that an engine malfunction in the first hour is: \" + str(round(one_hour, 4)))\n",
    "print(\"The probability that an engine malfunction in the second hours is: \" + str(round(two_hour, 4)))\n",
    "print(\"The probability that an engine will survive two hours is: \" + str(round(survive_two_hours, 4)))"
   ]
  },
  {
   "cell_type": "code",
   "execution_count": 17,
   "metadata": {},
   "outputs": [
    {
     "data": {
      "image/png": "[encoded data removed]",
      "text/plain": [
       "<Figure size 432x288 with 1 Axes>"
      ]
     },
     "metadata": {
      "needs_background": "light"
     },
     "output_type": "display_data"
    },
    {
     "name": "stdout",
     "output_type": "stream",
     "text": [
      "Expected value: 50.0\n",
      "Variance: 2450.0\n"
     ]
    }
   ],
   "source": [
    "printDistribution(example)"
   ]
  },
  {
   "cell_type": "code",
   "execution_count": 18,
   "metadata": {},
   "outputs": [
    {
     "name": "stdout",
     "output_type": "stream",
     "text": [
      "Sample space probability: 0.6358303199128826\n"
     ]
    }
   ],
   "source": [
    "print(\"Sample space probability: \" + str(example.probabilityOfSampleSpace()))"
   ]
  },
  {
   "cell_type": "markdown",
   "metadata": {},
   "source": [
    "### Geometric precision\n",
    "\n",
    "Based on the probabilityOfSampleSpace function, we can know the precision or reliability of the computation of probabilities as they must sum up to 1.\n",
    "\n",
    "In this case, the probability of sample space for this distribution implementation is much less than 1 because this distribution could go on indefinitely. We cannot take it as fully precise, but it depends on the point of view.\n",
    "\n",
    "The geometric distribution is often used to model distributions of lengths of waiting times."
   ]
  },
  {
   "cell_type": "markdown",
   "metadata": {},
   "source": [
    "## Hypergeometric distribution"
   ]
  },
  {
   "cell_type": "code",
   "execution_count": 19,
   "metadata": {},
   "outputs": [],
   "source": [
    "class HypergeometricDistribution(DiscreteDistribution):\n",
    "    \n",
    "    \"\"\"\n",
    "    Computes a Hypergeometric distribution selecting a sample of elements (n) from a population (N) to know\n",
    "    the probability that a given characteristic (M) is present in the sample.\n",
    "    \n",
    "    The sample space is from 0 to the sample size.\n",
    "    \"\"\"\n",
    "    \n",
    "    def __init__(self, N, n, M):\n",
    "        self.sample_space = range(n + 1)\n",
    "        self.N = N #population size\n",
    "        self.n = n #sample size or number of draws\n",
    "        self.M = M #number of success states in the population\n",
    "        self.total = N #total of cases\n",
    "        self.good = M #success\n",
    "        self.bad = self.total - self.good #failure\n",
    "        self.distribution = {}\n",
    "        for event in self.sample_space:\n",
    "            self.distribution[event] = self.calculateProbability(event)\n",
    "        self.experiments = 0\n",
    "        print(self.distribution)\n",
    "    \n",
    "    def calculateProbability(self, k): #probability mass function\n",
    "        \"\"\"\n",
    "        Computes the probability that an element (k) is present in the sample (n).\n",
    "        \n",
    "        This follows the formula for calculating the combinations for the total number of cases, success cases,\n",
    "        and failure cases for a given element k.\n",
    "        \"\"\"\n",
    "        numerator_1 = (np.math.factorial(self.good)/(np.math.factorial(self.good-k)))/np.math.factorial(k)\n",
    "        numerator_2 = (np.math.factorial(self.bad)/(np.math.factorial(self.bad-(self.n-k))))/np.math.factorial((self.n-k))\n",
    "        denominator = (np.math.factorial(self.total)/(np.math.factorial(self.total-self.n)))/np.math.factorial(self.n)\n",
    "        return (numerator_1*numerator_2)/denominator\n",
    "    \n",
    "    def expectedValue(self):\n",
    "        return self.n * (self.M/self.N)\n",
    "    \n",
    "    def variance(self):\n",
    "        #return (self.M-self.n)*self.n*self.N*(self.M - self.N)*1.0/(self.M*self.M*(self.M-1)) #another way\n",
    "        return self.n * (self.M/self.N) * ((self.N-self.M)/self.N) * ((self.N-self.n)/(self.N-1))"
   ]
  },
  {
   "cell_type": "markdown",
   "metadata": {},
   "source": [
    "### Hypergeometric example\n",
    "\n",
    "**Example:** From a group of 20 Ph.D. engineers, 10 are randomly selected for\n",
    "employment. What is the probability that the 10 selected include\n",
    "all the 5 best engineers in the group of 20?"
   ]
  },
  {
   "cell_type": "code",
   "execution_count": 20,
   "metadata": {},
   "outputs": [
    {
     "name": "stdout",
     "output_type": "stream",
     "text": [
      "{0: 0.016253869969040248, 1: 0.13544891640866874, 2: 0.34829721362229105, 3: 0.34829721362229105, 4: 0.13544891640866874, 5: 0.016253869969040248}\n"
     ]
    }
   ],
   "source": [
    "example = HypergeometricDistribution(N=20, M=10, n=5)"
   ]
  },
  {
   "cell_type": "code",
   "execution_count": 21,
   "metadata": {},
   "outputs": [
    {
     "name": "stdout",
     "output_type": "stream",
     "text": [
      "The probability that all the 5 best engineers are among the ten selected is: 0.0163\n"
     ]
    }
   ],
   "source": [
    "print(\"The probability that all the 5 best engineers are among the ten selected is: \" + str(round(example.calculateProbability(5), 4)))"
   ]
  },
  {
   "cell_type": "code",
   "execution_count": 22,
   "metadata": {},
   "outputs": [
    {
     "data": {
      "image/png": "[encoded data removed]",
      "text/plain": [
       "<Figure size 432x288 with 1 Axes>"
      ]
     },
     "metadata": {
      "needs_background": "light"
     },
     "output_type": "display_data"
    },
    {
     "name": "stdout",
     "output_type": "stream",
     "text": [
      "Expected value: 2.5\n",
      "Variance: 0.986842105263158\n"
     ]
    }
   ],
   "source": [
    "printDistribution(example)"
   ]
  },
  {
   "cell_type": "code",
   "execution_count": 23,
   "metadata": {},
   "outputs": [
    {
     "name": "stdout",
     "output_type": "stream",
     "text": [
      "Sample space probability: 1.0\n"
     ]
    }
   ],
   "source": [
    "print(\"Sample space probability: \" + str(example.probabilityOfSampleSpace()))"
   ]
  },
  {
   "cell_type": "markdown",
   "metadata": {},
   "source": [
    "**Example:** An industrial product is shipped in lots of 20. Testing to determine whether an item\n",
    "is defective is costly, and hence the manufacturer samples his production rather than\n",
    "using a 100% inspection plan. A sampling plan, constructed to minimize the number\n",
    "of defectives shipped to customers, calls for sampling five items from each lot and\n",
    "rejecting the lot if more than one defective is observed. (If the lot is rejected, each\n",
    "item in it is later tested.) If a lot contains four defectives, what is the probability that it will be rejected? What is the expected number of defectives in the sample of size 5?\n",
    "What is the variance of the number of defectives in the sample of size 5?"
   ]
  },
  {
   "cell_type": "code",
   "execution_count": 24,
   "metadata": {},
   "outputs": [
    {
     "name": "stdout",
     "output_type": "stream",
     "text": [
      "{0: 0.28173374613003094, 1: 0.4695562435500516, 2: 0.21671826625386997, 3: 0.030959752321981424, 4: 0.0010319917440660474}\n"
     ]
    }
   ],
   "source": [
    "example = HypergeometricDistribution(N=20, M=5, n=4)"
   ]
  },
  {
   "cell_type": "code",
   "execution_count": 25,
   "metadata": {},
   "outputs": [
    {
     "name": "stdout",
     "output_type": "stream",
     "text": [
      "The probability that there are none defective is: 0.2817\n",
      "The probability that there is one defective is: 0.4696\n",
      "The probability of rejecting the lot (or that there is more than one defective) is: 0.2487\n"
     ]
    }
   ],
   "source": [
    "none_defective = example.calculateProbability(0)\n",
    "one_defective = example.calculateProbability(1)\n",
    "reject_lot = 1-(none_defective+one_defective)\n",
    "print(\"The probability that there are none defective is: \" + str(round(none_defective, 4)))\n",
    "print(\"The probability that there is one defective is: \" + str(round(one_defective, 4)))\n",
    "print(\"The probability of rejecting the lot (or that there is more than one defective) is: \" + str(round(reject_lot, 4)))"
   ]
  },
  {
   "cell_type": "code",
   "execution_count": 26,
   "metadata": {},
   "outputs": [
    {
     "data": {
      "image/png": "[encoded data removed]",
      "text/plain": [
       "<Figure size 432x288 with 1 Axes>"
      ]
     },
     "metadata": {
      "needs_background": "light"
     },
     "output_type": "display_data"
    },
    {
     "name": "stdout",
     "output_type": "stream",
     "text": [
      "Expected value: 1.0\n",
      "Variance: 0.631578947368421\n"
     ]
    }
   ],
   "source": [
    "printDistribution(example)"
   ]
  },
  {
   "cell_type": "code",
   "execution_count": 27,
   "metadata": {},
   "outputs": [
    {
     "name": "stdout",
     "output_type": "stream",
     "text": [
      "Sample space probability: 1.0\n"
     ]
    }
   ],
   "source": [
    "print(\"Sample space probability: \" + str(example.probabilityOfSampleSpace()))"
   ]
  },
  {
   "cell_type": "markdown",
   "metadata": {},
   "source": [
    "### Hypergeometric precision\n",
    "\n",
    "Based on the probabilityOfSampleSpace function, we can know the precision or reliability of the computation of probabilities as they must sum up to 1.\n",
    "\n",
    "In this case, the probability of sample space for this distribution implementation sums up to 1. So, we can take it as precise and reliable."
   ]
  },
  {
   "cell_type": "markdown",
   "metadata": {},
   "source": [
    "## Poisson distribution"
   ]
  },
  {
   "cell_type": "code",
   "execution_count": 28,
   "metadata": {},
   "outputs": [],
   "source": [
    "class PoissonDistribution(DiscreteDistribution):\n",
    "    \n",
    "    \"\"\"\n",
    "    Computes a Poisson distribution for an average number of occurrences (mu) of a specified event in any given unit of time or space.\n",
    "    \n",
    "    The sample size, in this case, is from 0 to the number of average occurrences because this distribution\n",
    "    could go on indefinitely.\n",
    "    \"\"\"\n",
    "    \n",
    "    def __init__(self, mu):\n",
    "        self.sample_space = range(mu + 1)\n",
    "        self.mu = mu #average number of occurrences\n",
    "        self.distribution = {}\n",
    "        if self.mu > 0:\n",
    "            for event in self.sample_space:\n",
    "                self.distribution[event] = self.calculateProbability(event)\n",
    "            self.experiments = 0\n",
    "            print(self.distribution)\n",
    "        else: pass\n",
    "    \n",
    "    def calculateProbability(self, k):\n",
    "        \"\"\"\n",
    "        Computes the probability that an event k occurs during an average of events (mu) are expected to occur.\n",
    "        \"\"\"\n",
    "        return np.exp(-self.mu)*((self.mu**k)/np.math.factorial(k))\n",
    "    \n",
    "    def expectedValue(self):\n",
    "        return self.mu\n",
    "    \n",
    "    def variance(self):\n",
    "        return  self.mu"
   ]
  },
  {
   "cell_type": "markdown",
   "metadata": {},
   "source": [
    "### Poisson example\n",
    "\n",
    "**Example:** A certain type of tree has seedlings randomly dispersed in a large area, with the mean\n",
    "density of seedlings being approximately five per square yard. If a forester randomly\n",
    "locates ten 1-square-yard sampling regions in the area, find the probability that none\n",
    "of the regions will contain seedlings."
   ]
  },
  {
   "cell_type": "code",
   "execution_count": 29,
   "metadata": {},
   "outputs": [
    {
     "name": "stdout",
     "output_type": "stream",
     "text": [
      "{0: 0.006737946999085467, 1: 0.03368973499542734, 2: 0.08422433748856833, 3: 0.14037389581428056, 4: 0.1754673697678507, 5: 0.1754673697678507}\n"
     ]
    }
   ],
   "source": [
    "example = PoissonDistribution(5)"
   ]
  },
  {
   "cell_type": "code",
   "execution_count": 30,
   "metadata": {},
   "outputs": [
    {
     "name": "stdout",
     "output_type": "stream",
     "text": [
      "The probability that none of the regions will contain seedlings is: 0.0067\n"
     ]
    }
   ],
   "source": [
    "print(\"The probability that none of the regions will contain seedlings is: \" + str(round(example.calculateProbability(0), 4)))"
   ]
  },
  {
   "cell_type": "code",
   "execution_count": 31,
   "metadata": {},
   "outputs": [
    {
     "data": {
      "image/png": "[encoded data removed]",
      "text/plain": [
       "<Figure size 432x288 with 1 Axes>"
      ]
     },
     "metadata": {
      "needs_background": "light"
     },
     "output_type": "display_data"
    },
    {
     "name": "stdout",
     "output_type": "stream",
     "text": [
      "Expected value: 5\n",
      "Variance: 5\n"
     ]
    }
   ],
   "source": [
    "printDistribution(example)"
   ]
  },
  {
   "cell_type": "code",
   "execution_count": 32,
   "metadata": {},
   "outputs": [
    {
     "name": "stdout",
     "output_type": "stream",
     "text": [
      "Sample space probability: 0.6159606548330632\n"
     ]
    }
   ],
   "source": [
    "print(\"Sample space probability: \" + str(example.probabilityOfSampleSpace()))"
   ]
  },
  {
   "cell_type": "markdown",
   "metadata": {},
   "source": [
    "### Poisson precision\n",
    "\n",
    "Based on the probabilityOfSampleSpace function, we can know the precision or reliability of the computation of probabilities as they must sum up to 1.\n",
    "\n",
    "In this case, the probability of sample space for this distribution implementation is much less than 1 because this distribution could go on indefinitely. We cannot take it as fully precise, but it depends on the point of view.\n",
    "\n",
    "The Poisson probability distribution often provides a good model for the probability distribution of a number of rare events that occur in space, time, volume, or any other dimension, where we have an average value of some event. It provides a good model for any type of accidents in a given unit of time; also, for number of telephone calls handled by a switchboard in a time interval, the number of radioactive particles that decay in a particular time period, the number of errors a typist makes in typing a page, and the number of automobiles using a freeway access ramp in a ten-minute interval, for mentioning some examples."
   ]
  },
  {
   "cell_type": "markdown",
   "metadata": {},
   "source": [
    "# Continuous distribution class"
   ]
  },
  {
   "cell_type": "markdown",
   "metadata": {},
   "source": [
    "There are different continuous distributions. For example, uniform, normal, gamma, exponential, and beta. In this notebook are coded the continuous distributions mentioned."
   ]
  },
  {
   "cell_type": "code",
   "execution_count": 33,
   "metadata": {},
   "outputs": [],
   "source": [
    "class ContinuousDistribution:\n",
    "    \n",
    "    \"\"\"\n",
    "    A continuos distribution is computed in this class.\n",
    "    A density function is computed in the correspondant method.\n",
    "    The probability of a random variable is computed by integrating the density function and represented\n",
    "    as areas under curves.\n",
    "    \"\"\"\n",
    "    \n",
    "    def __init__(self, **parameters):\n",
    "        #initialize the paramters of the distribution\n",
    "        for k, v in parameters.items():\n",
    "            setattr(self, k, v)\n",
    "        \n",
    "        \n",
    "    def densityFunction(self, x):\n",
    "        #Calculate the density function and return it as a vectorizable function\n",
    "        if k >= self.theta1 and k <= self.theta2:\n",
    "            return 1/(self.theta2 - self.theta1)\n",
    "        else:\n",
    "            return 0\n",
    "    \n",
    "    def vectorizedDensity(self):\n",
    "        return np.vectorize(self.densityFunction)\n",
    "    \n",
    "    def integrate(self, f, a, b, steps = 50, plot=False):\n",
    "        #Here you must implement your integration method as described above\n",
    "        step_size = (b-a)/steps\n",
    "        x = np.linspace(a, b, steps)\n",
    "        y = f(x)\n",
    "        integral = np.sum(y*step_size)\n",
    "        if plot is True:\n",
    "            self.plotFunction(x, y)\n",
    "        return integral\n",
    "    \n",
    "    def plotFunction(self, x, y):\n",
    "        plt.plot(x,y, color='r')\n",
    "        plt.fill_between(x,y)\n",
    "        plt.xlim([x[0],x[-1]])\n",
    "        plt.ylim([0, max(y) + 1])\n",
    "        plt.show()\n",
    "        \n",
    "    def probability(self, a, b):\n",
    "        #Here you should approximate the integral of the density function in the \n",
    "        #interval a, b, using the steps you need (depending on the complexity of the density function)\n",
    "        probability = self.integrate(self.vectorizedDensity(), a, b)\n",
    "        return probability\n",
    "    \n",
    "    def expectedValue(self):\n",
    "        #Here you will calculate the expected value of the probability function and return it\n",
    "        expected_value = None\n",
    "        return expected_value\n",
    "    \n",
    "    def variance(self):\n",
    "        #Here you will calculate the expected value of the probability function and return it\n",
    "        variance = None\n",
    "        return variance"
   ]
  },
  {
   "cell_type": "markdown",
   "metadata": {},
   "source": [
    "## Uniform distribution"
   ]
  },
  {
   "cell_type": "code",
   "execution_count": 34,
   "metadata": {},
   "outputs": [],
   "source": [
    "class UniformDistribution(ContinuousDistribution):\n",
    "    \n",
    "    \"\"\"\n",
    "    Computes a Uniform distribution for a given interval (theta1, theta2).\n",
    "    \"\"\"\n",
    "    \n",
    "    def __init__(self, theta1, theta2):\n",
    "        self.theta1 = theta1\n",
    "        self.theta2 = theta2\n",
    "        \n",
    "    def densityFunction(self, k):\n",
    "        \"\"\"\n",
    "        Computes the density function of an event k.\n",
    "        \"\"\"\n",
    "        if k >= self.theta1 and k <= self.theta2:\n",
    "            return 1/(self.theta2 - self.theta1)\n",
    "        else:\n",
    "            return 0\n",
    "    \n",
    "    def probability(self, a, b):\n",
    "        \"\"\"\n",
    "        Computes the probability of an interval (a, b) and presents it as areas under curves.\n",
    "        \"\"\"\n",
    "        probability = self.integrate(self.vectorizedDensity(), a, b, steps=50, plot=True)\n",
    "        return probability\n",
    "    \n",
    "    def expectedValue(self):\n",
    "        return (self.theta1 + self.theta2)/2\n",
    "    \n",
    "    def variance(self):\n",
    "        return ((self.theta2 - self.theta1)**2)/12"
   ]
  },
  {
   "cell_type": "markdown",
   "metadata": {},
   "source": [
    "### Uniform example\n",
    "\n",
    "**Example:** Arrivals of customers at a checkout counter follow a Poisson distribution. It is known\n",
    "that, during a given 30-minute period, one customer arrived at the counter. Find\n",
    "the probability that the customer arrived during the last 5 minutes of the 30-minute\n",
    "period."
   ]
  },
  {
   "cell_type": "code",
   "execution_count": 35,
   "metadata": {},
   "outputs": [
    {
     "data": {
      "image/png": "[encoded data removed]",
      "text/plain": [
       "<Figure size 432x288 with 1 Axes>"
      ]
     },
     "metadata": {
      "needs_background": "light"
     },
     "output_type": "display_data"
    },
    {
     "name": "stdout",
     "output_type": "stream",
     "text": [
      "The probability that a customer arrives during the last 5 minutes is: 0.1667\n",
      "Expected value:  15.0\n",
      "Variance:  75.0\n"
     ]
    }
   ],
   "source": [
    "uniform = UniformDistribution(theta1 = 0, theta2=30)\n",
    "print(\"The probability that a customer arrives during the last 5 minutes is: \" + str(round(uniform.probability(25, 30), 4)))\n",
    "print(\"Expected value: \",uniform.expectedValue())\n",
    "print(\"Variance: \", uniform.variance())"
   ]
  },
  {
   "cell_type": "code",
   "execution_count": 36,
   "metadata": {},
   "outputs": [
    {
     "data": {
      "image/png": "[encoded data removed]",
      "text/plain": [
       "<Figure size 432x288 with 1 Axes>"
      ]
     },
     "metadata": {
      "needs_background": "light"
     },
     "output_type": "display_data"
    },
    {
     "name": "stdout",
     "output_type": "stream",
     "text": [
      "1.0\n"
     ]
    }
   ],
   "source": [
    "print(uniform.probability(0, 30))"
   ]
  },
  {
   "cell_type": "markdown",
   "metadata": {},
   "source": [
    "### Uniform precision\n",
    "\n",
    "Based on the property that the sum of all probabilities of a distribution must be 1, we can see that this uniform distribution is reliable as we can see in the test above.\n",
    "\n",
    "The uniform distribution is used by some random variables in the physical, management, and biological sciences because they have approximately this distribution."
   ]
  },
  {
   "cell_type": "markdown",
   "metadata": {},
   "source": [
    "## Normal distribution"
   ]
  },
  {
   "cell_type": "code",
   "execution_count": 37,
   "metadata": {},
   "outputs": [],
   "source": [
    "class NormalDistribution(ContinuousDistribution):\n",
    "    \n",
    "    \"\"\"\n",
    "    Computes a Normal distribution with parameters mu, which is the mean of some observed events, and sigma,\n",
    "    which is the dispersion of mu.\n",
    "    \"\"\"\n",
    "    \n",
    "    def __init__(self, mu, sigma):\n",
    "        self.mu = mu\n",
    "        self.sigma = sigma\n",
    "    \n",
    "    def densityFunction(self, k):\n",
    "        \"\"\"\n",
    "        Computes the density function of an event k present in an interval of observations.\n",
    "        \"\"\"\n",
    "        exp = np.exp(-(((k - self.mu)**2)/(2*self.sigma**2)))\n",
    "        return ((1/(self.sigma*np.sqrt(2*np.pi)))*exp)\n",
    "                \n",
    "    def probability(self, a, b):\n",
    "        \"\"\"\n",
    "        Computes the probability of events in a given interval (a, b) and represents it as area under curve.\n",
    "        \"\"\"\n",
    "        if self.sigma > 0:\n",
    "            probability = self.integrate(self.vectorizedDensity(), a, b, steps=100, plot=True)\n",
    "            return probability\n",
    "        else: pass\n",
    "    \n",
    "    def expectedValue(self):\n",
    "        return self.mu\n",
    "    \n",
    "    def variance(self):\n",
    "        return self.sigma**2"
   ]
  },
  {
   "cell_type": "markdown",
   "metadata": {},
   "source": [
    "### Normal example\n",
    "\n",
    "**Example:** The achievement scores for a college entrance examination are\n",
    "normally distributed with mean 75 and standard deviation 10.\n",
    "What fraction of the scores lies between 80 and 90?"
   ]
  },
  {
   "cell_type": "code",
   "execution_count": 38,
   "metadata": {},
   "outputs": [
    {
     "data": {
      "image/png": "[encoded data removed]",
      "text/plain": [
       "<Figure size 432x288 with 1 Axes>"
      ]
     },
     "metadata": {
      "needs_background": "light"
     },
     "output_type": "display_data"
    },
    {
     "name": "stdout",
     "output_type": "stream",
     "text": [
      "The fraction of scores that lies between 80 and 90 is: 0.2417\n",
      "Expected value:  75\n",
      "Variance:  100\n"
     ]
    }
   ],
   "source": [
    "normal = NormalDistribution(mu = 75, sigma=10)\n",
    "print(\"The fraction of scores that lies between 80 and 90 is: \" + str(round(normal.probability(80, 90), 4)))\n",
    "print(\"Expected value: \",normal.expectedValue())\n",
    "print(\"Variance: \", normal.variance())"
   ]
  },
  {
   "cell_type": "code",
   "execution_count": 39,
   "metadata": {},
   "outputs": [
    {
     "data": {
      "image/png": "[encoded data removed]",
      "text/plain": [
       "<Figure size 432x288 with 1 Axes>"
      ]
     },
     "metadata": {
      "needs_background": "light"
     },
     "output_type": "display_data"
    },
    {
     "name": "stdout",
     "output_type": "stream",
     "text": [
      "0.6806857171595393\n"
     ]
    },
    {
     "data": {
      "image/png": "[encoded data removed]",
      "text/plain": [
       "<Figure size 432x288 with 1 Axes>"
      ]
     },
     "metadata": {
      "needs_background": "light"
     },
     "output_type": "display_data"
    },
    {
     "name": "stdout",
     "output_type": "stream",
     "text": [
      "0.9470852921522199\n"
     ]
    },
    {
     "data": {
      "image/png": "[encoded data removed]",
      "text/plain": [
       "<Figure size 432x288 with 1 Axes>"
      ]
     },
     "metadata": {
      "needs_background": "light"
     },
     "output_type": "display_data"
    },
    {
     "name": "stdout",
     "output_type": "stream",
     "text": [
      "0.9875850578553711\n"
     ]
    }
   ],
   "source": [
    "print(normal.probability(75-10, 75+10))\n",
    "print(normal.probability(75-10*2, 75+10*2))\n",
    "print(normal.probability(75-10*3, 75+10*3))"
   ]
  },
  {
   "cell_type": "markdown",
   "metadata": {},
   "source": [
    "### Normal precision\n",
    "\n",
    "The normal ditribution is based on the 68-95-99.7 empirical rule, or the 3-sigma rule, that says that about 68% of values drawn from a normal distribution are within one standard deviation (sigma) away from the mean; about 95% of the values lie within two standard deviations; and about 99.7% are within three standard deviations.\n",
    "\n",
    "In this distribution implementation, one out of three cases are not precisely fulfilled: the last case of three standard deviations. We can take this example as reliable for values closer to the mean.\n",
    "\n",
    "The normal distribution is often used in the natural and social sciences to represent real-valued random variables whose distributions are not known. "
   ]
  },
  {
   "cell_type": "markdown",
   "metadata": {},
   "source": [
    "## Gamma distribution"
   ]
  },
  {
   "cell_type": "code",
   "execution_count": 40,
   "metadata": {},
   "outputs": [],
   "source": [
    "class GammaDistribution(ContinuousDistribution):\n",
    "    \n",
    "    \"\"\"\n",
    "    Computes a Gamma distribution with parameters alpha and beta. Parameter beta is generally called the scale\n",
    "    parameter, and alpha the shape parameter.\n",
    "    \"\"\"\n",
    "    \n",
    "    def __init__(self, alpha, beta):\n",
    "        self.alpha = alpha\n",
    "        self.beta = beta\n",
    "    \n",
    "    def densityFunction(self, k):\n",
    "        \"\"\"\n",
    "        Computes the density function for a given event k present in the interval (a,b).\n",
    "        \"\"\"\n",
    "        if k >= 0:\n",
    "            numerator = (k**(self.alpha-1))*(np.exp(-(k/self.beta)))\n",
    "            denominator = (self.beta**self.alpha)*math.gamma(self.alpha)\n",
    "            return numerator/denominator\n",
    "        else: return 0\n",
    "    \n",
    "    def probability(self, a, b):\n",
    "        \"\"\"\n",
    "        Computes the probability of events in the interval (a,b) and represents it as area under curve.\n",
    "        \"\"\"\n",
    "        if self.alpha > 0 and self.beta > 0:\n",
    "            probability = self.integrate(self.vectorizedDensity(), a, b, steps=1000, plot=True)\n",
    "            return probability\n",
    "        else: pass\n",
    "    \n",
    "    def expectedValue(self):\n",
    "        return self.alpha*self.beta\n",
    "    \n",
    "    def variance(self):\n",
    "        return self.alpha*(self.beta**2)"
   ]
  },
  {
   "cell_type": "markdown",
   "metadata": {},
   "source": [
    "### Gamma example\n",
    "\n",
    "**Example:** Suppose you are fishing and you expect to get a fish once every 1/2 hour. Compute the probability that you will have to wait between 2 to 4 hours before you catch 4 fish. "
   ]
  },
  {
   "cell_type": "code",
   "execution_count": 41,
   "metadata": {},
   "outputs": [
    {
     "data": {
      "image/png": "[encoded data removed]",
      "text/plain": [
       "<Figure size 432x288 with 1 Axes>"
      ]
     },
     "metadata": {
      "needs_background": "light"
     },
     "output_type": "display_data"
    },
    {
     "name": "stdout",
     "output_type": "stream",
     "text": [
      "Probability that I will have to wait between 2 to 4 hours before I catch 4 fish is: 0.1239\n",
      "Expected value:  8\n",
      "Variance:  16\n"
     ]
    }
   ],
   "source": [
    "gamma = GammaDistribution(alpha = 4, beta=2)\n",
    "print(\"Probability that I will have to wait between 2 to 4 hours before I catch 4 fish is: \" +str(round(gamma.probability(2, 4), 4)))\n",
    "print(\"Expected value: \",gamma.expectedValue())\n",
    "print(\"Variance: \", gamma.variance())"
   ]
  },
  {
   "cell_type": "code",
   "execution_count": 42,
   "metadata": {},
   "outputs": [
    {
     "data": {
      "image/png": "[encoded data removed]",
      "text/plain": [
       "<Figure size 432x288 with 1 Axes>"
      ]
     },
     "metadata": {
      "needs_background": "light"
     },
     "output_type": "display_data"
    },
    {
     "name": "stdout",
     "output_type": "stream",
     "text": [
      "0.9990000087014574\n"
     ]
    }
   ],
   "source": [
    "print(gamma.probability(0, 100))\n"
   ]
  },
  {
   "cell_type": "markdown",
   "metadata": {},
   "source": [
    "**Example:** An insurance company observes that large commercial fire claims occur randomly in time with a mean of 0.7 years between claims. For its financial planning it would like to estimate how long it will be before it pays out the 5th such claim, "
   ]
  },
  {
   "cell_type": "code",
   "execution_count": 43,
   "metadata": {},
   "outputs": [
    {
     "data": {
      "image/png": "[encoded data removed]",
      "text/plain": [
       "<Figure size 432x288 with 1 Axes>"
      ]
     },
     "metadata": {
      "needs_background": "light"
     },
     "output_type": "display_data"
    },
    {
     "name": "stdout",
     "output_type": "stream",
     "text": [
      "Probability that the 5th claim pays out is: 0.8391\n",
      "Expected value:  3.5\n",
      "Variance:  2.4499999999999997\n"
     ]
    }
   ],
   "source": [
    "gamma = GammaDistribution(alpha = 5, beta=0.7)\n",
    "print(\"Probability that the 5th claim pays out is: \"+str(round(gamma.probability(0, 5), 4)))\n",
    "print(\"Expected value: \",gamma.expectedValue())\n",
    "print(\"Variance: \", gamma.variance())"
   ]
  },
  {
   "cell_type": "code",
   "execution_count": 44,
   "metadata": {},
   "outputs": [
    {
     "data": {
      "image/png": "[encoded data removed]",
      "text/plain": [
       "<Figure size 432x288 with 1 Axes>"
      ]
     },
     "metadata": {
      "needs_background": "light"
     },
     "output_type": "display_data"
    },
    {
     "name": "stdout",
     "output_type": "stream",
     "text": [
      "0.999000001407403\n"
     ]
    }
   ],
   "source": [
    "print(gamma.probability(0, 100))\n"
   ]
  },
  {
   "cell_type": "markdown",
   "metadata": {},
   "source": [
    "**Example:** Suppose the time spent by a randomly selected student who uses a terminal connected to a local time-sharing computer facility has a gamma distribution with mean 20 min and variance $80 min^2$.\n",
    "\n",
    "$$\\alpha\\beta = 20$$ and $$\\alpha\\beta^2 = 80 $$\n",
    "\n",
    "$$\\alpha = 5 $$ and $$\\beta = 4 $$\n",
    "\n",
    "What is the probability that a student uses the terminal for at most 24 min?"
   ]
  },
  {
   "cell_type": "code",
   "execution_count": 45,
   "metadata": {},
   "outputs": [
    {
     "data": {
      "image/png": "[encoded data removed]",
      "text/plain": [
       "<Figure size 432x288 with 1 Axes>"
      ]
     },
     "metadata": {
      "needs_background": "light"
     },
     "output_type": "display_data"
    },
    {
     "name": "stdout",
     "output_type": "stream",
     "text": [
      "Probability that a student uses the terminal for at most 24 minutes is: 0.7146\n",
      "Expected value:  20\n",
      "Variance:  80\n"
     ]
    }
   ],
   "source": [
    "gamma = GammaDistribution(alpha = 5, beta=4)\n",
    "print(\"Probability that a student uses the terminal for at most 24 minutes is: \" + str(round(gamma.probability(0, 24), 4)))\n",
    "print(\"Expected value: \",gamma.expectedValue())\n",
    "print(\"Variance: \", gamma.variance())"
   ]
  },
  {
   "cell_type": "code",
   "execution_count": 46,
   "metadata": {},
   "outputs": [
    {
     "data": {
      "image/png": "[encoded data removed]",
      "text/plain": [
       "<Figure size 432x288 with 1 Axes>"
      ]
     },
     "metadata": {
      "needs_background": "light"
     },
     "output_type": "display_data"
    },
    {
     "name": "stdout",
     "output_type": "stream",
     "text": [
      "0.9989997361742167\n"
     ]
    }
   ],
   "source": [
    "print(gamma.probability(0, 100))"
   ]
  },
  {
   "cell_type": "markdown",
   "metadata": {},
   "source": [
    "### Gamma precision\n",
    "\n",
    "Based on the property that the sum of all probabilities of a distribution must be 1, we can see that this gamma distribution approximates to 1 in the interval (0,100), but this is just an approximation that we cannot say it's true because the gamma distribution can go on indefinitely for a real sum up to 1. So, we cannot say that this gamma distribution implementation is completely reliable.\n",
    "\n",
    "The gamma distribution is often used for modeling waiting times, life testing, insurance claims, for mentioning some examples."
   ]
  },
  {
   "cell_type": "markdown",
   "metadata": {},
   "source": [
    "## Exponential distribution"
   ]
  },
  {
   "cell_type": "code",
   "execution_count": 47,
   "metadata": {},
   "outputs": [],
   "source": [
    "class ExponentialDistribution(ContinuousDistribution):\n",
    "    \n",
    "    \"\"\"\n",
    "    Computes the exponential distribution (which is a special case of the gamma distribution in which alpha\n",
    "    always is 1) with parameter beta greater than 0.\n",
    "    \"\"\"\n",
    "    \n",
    "    def __init__(self, beta):\n",
    "        self.alpha = 1\n",
    "        self.beta = beta\n",
    "    \n",
    "    def densityFunction(self, k):\n",
    "        \"\"\"\n",
    "        Computes the density function of the exponential distribution.\n",
    "        \"\"\"\n",
    "        if k >= 0:\n",
    "            exp = np.exp(-(k/self.beta))\n",
    "            return (1/self.beta)*exp\n",
    "        else: return 0\n",
    "    \n",
    "    def probability(self, a, b):\n",
    "        if self.beta > 0:\n",
    "            probability = self.integrate(self.vectorizedDensity(), a, b, steps=1000, plot=True)\n",
    "            return probability\n",
    "        else: pass\n",
    "    \n",
    "    def expectedValue(self):\n",
    "        return self.beta\n",
    "    \n",
    "    def variance(self):\n",
    "        return self.beta**2"
   ]
  },
  {
   "cell_type": "markdown",
   "metadata": {},
   "source": [
    "### Exponential example\n",
    "\n",
    "**Example:** Students arrive at a local bar and restaurant according to an approximate Poisson process at a mean rate of 30 students per hour. What is the probability that the bouncer has to wait more than 3 minutes to card the next student?"
   ]
  },
  {
   "cell_type": "code",
   "execution_count": 48,
   "metadata": {},
   "outputs": [
    {
     "data": {
      "image/png": "[encoded data removed]",
      "text/plain": [
       "<Figure size 432x288 with 1 Axes>"
      ]
     },
     "metadata": {
      "needs_background": "light"
     },
     "output_type": "display_data"
    },
    {
     "name": "stdout",
     "output_type": "stream",
     "text": [
      "Probability that the bouncer has to wait more than 3 minutes to card the next student is 0.9048\n",
      "Expected value:  30\n",
      "Variance:  900\n"
     ]
    }
   ],
   "source": [
    "exponential = ExponentialDistribution(beta=30)\n",
    "print(\"Probability that the bouncer has to wait more than 3 minutes to card the next student is \" + str(round(1-exponential.probability(0, 3), 4)))\n",
    "print(\"Expected value: \",exponential.expectedValue())\n",
    "print(\"Variance: \", exponential.variance())"
   ]
  },
  {
   "cell_type": "code",
   "execution_count": 49,
   "metadata": {},
   "outputs": [
    {
     "data": {
      "image/png": "[encoded data removed]",
      "text/plain": [
       "<Figure size 432x288 with 1 Axes>"
      ]
     },
     "metadata": {
      "needs_background": "light"
     },
     "output_type": "display_data"
    },
    {
     "name": "stdout",
     "output_type": "stream",
     "text": [
      "0.9650886977564133\n"
     ]
    }
   ],
   "source": [
    "print(exponential.probability(0, 100))"
   ]
  },
  {
   "cell_type": "markdown",
   "metadata": {},
   "source": [
    "**Example:** Suppose the response time X at a certain on-line computer terminal (the elapsed timebetween the end of a user’s inquiry and the beginning of the system’s response tothat inquiry) has an exponential distribution with expected response time equal to 5sec.Find the probability that the response time is between 5 and 10 sec."
   ]
  },
  {
   "cell_type": "code",
   "execution_count": 50,
   "metadata": {},
   "outputs": [
    {
     "data": {
      "image/png": "[encoded data removed]",
      "text/plain": [
       "<Figure size 432x288 with 1 Axes>"
      ]
     },
     "metadata": {
      "needs_background": "light"
     },
     "output_type": "display_data"
    },
    {
     "name": "stdout",
     "output_type": "stream",
     "text": [
      "Probability that the response time is between 5 and 10 seconds is 0.2326\n",
      "Expected value:  5\n",
      "Variance:  25\n"
     ]
    }
   ],
   "source": [
    "exponential = ExponentialDistribution(beta=5)\n",
    "print(\"Probability that the response time is between 5 and 10 seconds is \"+str(round(exponential.probability(5, 10), 4)))\n",
    "print(\"Expected value: \",exponential.expectedValue())\n",
    "print(\"Variance: \", exponential.variance())"
   ]
  },
  {
   "cell_type": "code",
   "execution_count": 51,
   "metadata": {},
   "outputs": [
    {
     "data": {
      "image/png": "[encoded data removed]",
      "text/plain": [
       "<Figure size 432x288 with 1 Axes>"
      ]
     },
     "metadata": {
      "needs_background": "light"
     },
     "output_type": "display_data"
    },
    {
     "name": "stdout",
     "output_type": "stream",
     "text": [
      "1.0090333644385956\n"
     ]
    }
   ],
   "source": [
    "print(exponential.probability(0, 100))"
   ]
  },
  {
   "cell_type": "markdown",
   "metadata": {},
   "source": [
    "### Exponential precision\n",
    "\n",
    "Based on the property that the sum of all probabilities of a distribution must be 1, we can see that this exponential distribution approximates to 1 in the interval (0,100), but this is just an approximation that we cannot say it's true because the exponential distribution, like gamma distribution, can go on indefinitely for a real sum up to 1. So, we cannot say that this distribution implementation is completely reliable.\n",
    "\n",
    "The exponential distribution is often used for modeling lengths of inter-arrival times, the time until the next phone call arrives in a constant rate of incoming phone calls in a time interval, for mentioning some examples."
   ]
  },
  {
   "cell_type": "markdown",
   "metadata": {},
   "source": [
    "## Beta distribution"
   ]
  },
  {
   "cell_type": "code",
   "execution_count": 52,
   "metadata": {},
   "outputs": [],
   "source": [
    "class BetaDistribution(ContinuousDistribution):\n",
    "    \n",
    "    \"\"\"\n",
    "    Computes the beta distribution with parameters alpha and beta. Both of them should be greater than 0.\n",
    "    \"\"\"\n",
    "    \n",
    "    def __init__(self, alpha, beta):\n",
    "        self.alpha = alpha\n",
    "        self.beta = beta\n",
    "    \n",
    "    def densityFunction(self, k):\n",
    "        \"\"\"\n",
    "        Computes the density function of a given event in the interval (a,b). This event should be\n",
    "        enclosed between 0 and 1. \n",
    "        \"\"\"\n",
    "        if k >= 0 and k <= 1:\n",
    "            numerator = ((k**(self.alpha-1))*((1-k)**(self.beta-1)))\n",
    "            denominator = (math.gamma(self.alpha)*math.gamma(self.beta))/(math.gamma(self.alpha+self.beta))\n",
    "            return numerator/denominator\n",
    "        else: return 0\n",
    "    \n",
    "    def probability(self, a, b):\n",
    "        if self.alpha > 0 and self.beta > 0:\n",
    "            probability = self.integrate(self.vectorizedDensity(), a, b, steps=1000, plot=True)\n",
    "            return probability\n",
    "        else: pass\n",
    "    \n",
    "    def expectedValue(self):\n",
    "        return self.alpha/(self.alpha+self.beta)\n",
    "    \n",
    "    def variance(self):\n",
    "        return (self.alpha*self.beta)/(((self.alpha+self.beta)**2)*(self.alpha+self.beta+1))"
   ]
  },
  {
   "cell_type": "markdown",
   "metadata": {},
   "source": [
    "### Beta example\n",
    "\n",
    "**Example:** Tanya enters a raffle at the local fair, and is wondering what her chances of winning are. If her probability of winning can be modeled by a beta distribution with α = 5 and β = 2, what is the probability that she has at most a 10% chance of winning? "
   ]
  },
  {
   "cell_type": "code",
   "execution_count": 53,
   "metadata": {},
   "outputs": [
    {
     "data": {
      "image/png": "[encoded data removed]",
      "text/plain": [
       "<Figure size 432x288 with 1 Axes>"
      ]
     },
     "metadata": {
      "needs_background": "light"
     },
     "output_type": "display_data"
    },
    {
     "name": "stdout",
     "output_type": "stream",
     "text": [
      "Probability that Tanya has at most a 10% change of winning is 0.0001\n",
      "Expected value:  0.7142857142857143\n",
      "Variance:  0.025510204081632654\n"
     ]
    }
   ],
   "source": [
    "beta = BetaDistribution(alpha = 5, beta=2)\n",
    "print(\"Probability that Tanya has at most a 10% change of winning is \" + str(round(beta.probability(0, 0.1), 4)))\n",
    "print(\"Expected value: \",beta.expectedValue())\n",
    "print(\"Variance: \", beta.variance())"
   ]
  },
  {
   "cell_type": "code",
   "execution_count": 54,
   "metadata": {},
   "outputs": [
    {
     "data": {
      "image/png": "[encoded data removed]",
      "text/plain": [
       "<Figure size 432x288 with 1 Axes>"
      ]
     },
     "metadata": {
      "needs_background": "light"
     },
     "output_type": "display_data"
    },
    {
     "name": "stdout",
     "output_type": "stream",
     "text": [
      "0.998997497499002\n"
     ]
    }
   ],
   "source": [
    "print(beta.probability(0, 1))"
   ]
  },
  {
   "cell_type": "markdown",
   "metadata": {},
   "source": [
    "**Example:** Suppose, if in a basket there are balls which are defective with a Beta distribution of α=5 and β=2 . Compute the probability of defective balls in the basket from 20% to 30%."
   ]
  },
  {
   "cell_type": "code",
   "execution_count": 55,
   "metadata": {},
   "outputs": [
    {
     "data": {
      "image/png": "[encoded data removed]",
      "text/plain": [
       "<Figure size 432x288 with 1 Axes>"
      ]
     },
     "metadata": {
      "needs_background": "light"
     },
     "output_type": "display_data"
    },
    {
     "name": "stdout",
     "output_type": "stream",
     "text": [
      "Probability of defective balls in the basket from 20% to 30% is 0.2352\n",
      "Expected value:  0.2857142857142857\n",
      "Variance:  0.025510204081632654\n"
     ]
    }
   ],
   "source": [
    "beta = BetaDistribution(alpha = 2, beta=5)\n",
    "print(\"Probability of defective balls in the basket from 20% to 30% is \"+str(round(beta.probability(0.2, 0.3), 4)))\n",
    "print(\"Expected value: \",beta.expectedValue())\n",
    "print(\"Variance: \", beta.variance())"
   ]
  },
  {
   "cell_type": "code",
   "execution_count": 56,
   "metadata": {},
   "outputs": [
    {
     "data": {
      "image/png": "[encoded data removed]",
      "text/plain": [
       "<Figure size 432x288 with 1 Axes>"
      ]
     },
     "metadata": {
      "needs_background": "light"
     },
     "output_type": "display_data"
    },
    {
     "name": "stdout",
     "output_type": "stream",
     "text": [
      "0.998997497499002\n"
     ]
    }
   ],
   "source": [
    "print(beta.probability(0, 1))"
   ]
  },
  {
   "cell_type": "markdown",
   "metadata": {},
   "source": [
    "**Example:** A gasoline wholesale distributor has bulk storage tanks that hold fixed supplies and\n",
    "are filled every Monday. Of interest to the wholesaler is the proportion of this supply\n",
    "that is sold during the week. Over many weeks of observation, the distributor found\n",
    "that this proportion could be modeled by a beta distribution with α = 4 and β = 2.\n",
    "Find the probability that the wholesaler will sell at least 90% of her stock in a given\n",
    "week."
   ]
  },
  {
   "cell_type": "code",
   "execution_count": 57,
   "metadata": {},
   "outputs": [
    {
     "data": {
      "image/png": "[encoded data removed]",
      "text/plain": [
       "<Figure size 432x288 with 1 Axes>"
      ]
     },
     "metadata": {
      "needs_background": "light"
     },
     "output_type": "display_data"
    },
    {
     "name": "stdout",
     "output_type": "stream",
     "text": [
      "Probability that the wholesaler will sell at least 90% of her stock in a given week is: 0.0815\n",
      "Expected value:  0.6666666666666666\n",
      "Variance:  0.031746031746031744\n"
     ]
    }
   ],
   "source": [
    "beta = BetaDistribution(alpha = 4, beta=2)\n",
    "print(\"Probability that the wholesaler will sell at least 90% of her stock in a given week is: \" + str(round(beta.probability(0.9, 1), 4)))\n",
    "print(\"Expected value: \",beta.expectedValue())\n",
    "print(\"Variance: \", beta.variance())"
   ]
  },
  {
   "cell_type": "code",
   "execution_count": 58,
   "metadata": {},
   "outputs": [
    {
     "data": {
      "image/png": "[encoded data removed]",
      "text/plain": [
       "<Figure size 432x288 with 1 Axes>"
      ]
     },
     "metadata": {
      "needs_background": "light"
     },
     "output_type": "display_data"
    },
    {
     "name": "stdout",
     "output_type": "stream",
     "text": [
      "0.9989983316656669\n"
     ]
    }
   ],
   "source": [
    "print(beta.probability(0, 1))"
   ]
  },
  {
   "cell_type": "markdown",
   "metadata": {},
   "source": [
    "### Beta precision\n",
    "\n",
    "Based on the property that the sum of all probabilities of a distribution must be 1, we can notice that this distribution implementation approximates to 1. So, we can take this distribution as reliable even though the probabilities don't add up to exactly 1, but approximates it very well.\n",
    "\n",
    "The beta distribution is often used as a model for proportions, such as the proportion of impurities in a chemical product or the proportion of time that a machine is under repair; also, for task cost and schedule modeling in project management."
   ]
  },
  {
   "cell_type": "markdown",
   "metadata": {},
   "source": [
    "# References\n",
    "\n",
    "Wackerly D., Mendenhall W.,Scheaffer R. Mathematical Statistics with Applications (2008) ISBN: 978-0-495-38508-0\n",
    "\n",
    "https://en.wikipedia.org/wiki/Binomial_distribution\n",
    "\n",
    "https://en.wikipedia.org/wiki/Geometric_distribution\n",
    "\n",
    "https://en.wikipedia.org/wiki/Hypergeometric_distribution\n",
    "\n",
    "https://en.wikipedia.org/wiki/Poisson_distribution\n",
    "\n",
    "https://en.wikipedia.org/wiki/Uniform_distribution_(continuous)\n",
    "\n",
    "https://en.wikipedia.org/wiki/Normal_distribution\n",
    "\n",
    "https://en.wikipedia.org/wiki/Gamma_distribution\n",
    "\n",
    "https://en.wikipedia.org/wiki/Exponential_distribution\n",
    "\n",
    "https://en.wikipedia.org/wiki/Beta_distribution\n",
    "\n",
    "https://github.com/scipy/scipy/blob/v1.5.1/scipy/stats/_discrete_distns.py\n",
    "\n",
    "https://github.com/scipy/scipy/blob/v1.5.1/scipy/stats/_continuous_distns.py"
   ]
  }
 ],
 "metadata": {
  "kernelspec": {
   "display_name": "Python 3",
   "language": "python",
   "name": "python3"
  },
  "language_info": {
   "codemirror_mode": {
    "name": "ipython",
    "version": 3
   },
   "file_extension": ".py",
   "mimetype": "text/x-python",
   "name": "python",
   "nbconvert_exporter": "python",
   "pygments_lexer": "ipython3",
   "version": "3.8.1"
  }
 },
 "nbformat": 4,
 "nbformat_minor": 4
}
